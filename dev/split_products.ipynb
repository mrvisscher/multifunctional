{
 "cells": [
  {
   "cell_type": "code",
   "execution_count": null,
   "id": "401df234-3d7c-4c66-9ae8-e2b49ef2314a",
   "metadata": {},
   "outputs": [],
   "source": [
    "import bw2data as bd\n",
    "import bw2calc as bc\n",
    "import multifunctional as mf"
   ]
  },
  {
   "cell_type": "markdown",
   "id": "21cd6126-31f4-4959-a632-29e94f360fbd",
   "metadata": {},
   "source": [
    "# Create a basic database with a separate product\n",
    "\n",
    "Note the node type `multifunctional` and the edge attribute `functional`."
   ]
  },
  {
   "cell_type": "code",
   "execution_count": 2,
   "id": "29223631-a364-4835-9253-9b3500a798d7",
   "metadata": {},
   "outputs": [],
   "source": [
    "if \"multifunctional-products-example\" in bd.projects:\n",
    "    bd.projects.delete_project(\"multifunctional-products-example\", True)"
   ]
  },
  {
   "cell_type": "code",
   "execution_count": 3,
   "id": "500abd0a-03e4-4028-9890-cb385b636f7d",
   "metadata": {},
   "outputs": [],
   "source": [
    "bd.projects.set_current(\"multifunctional-products-example\")"
   ]
  },
  {
   "cell_type": "code",
   "execution_count": 4,
   "id": "f8f862d9-0620-4744-856b-3b9d687ae687",
   "metadata": {},
   "outputs": [
    {
     "name": "stderr",
     "output_type": "stream",
     "text": [
      "100%|██████████████████████████████████████████████████████████████████████████████████████████████████████████████████████████████████████████████████████████████████████████████| 3/3 [00:00<00:00, 11629.31it/s]\n",
      "\u001B[32m2024-07-05 08:29:22.156\u001B[0m | \u001B[34m\u001B[1mDEBUG   \u001B[0m | \u001B[36mmultifunctional.node_classes\u001B[0m:\u001B[36mallocate\u001B[0m:\u001B[36m72\u001B[0m - \u001B[34m\u001B[1mAllocating Multifunctional: 'process - 1' (None, first, None) (id: 3) with strategy price\u001B[0m\n",
      "\u001B[32m2024-07-05 08:29:22.159\u001B[0m | \u001B[34m\u001B[1mDEBUG   \u001B[0m | \u001B[36mmultifunctional.allocation\u001B[0m:\u001B[36mgeneric_allocation\u001B[0m:\u001B[36m39\u001B[0m - \u001B[34m\u001B[1mUsing allocation factor 0.28 for functional edge Exchange: 4 kg 'first product' (kg, None, None) to Multifunctional: 'process - 1' (None, first, None)> on activity Multifunctional: 'process - 1' (None, first, None)\u001B[0m\n",
      "\u001B[32m2024-07-05 08:29:22.162\u001B[0m | \u001B[34m\u001B[1mDEBUG   \u001B[0m | \u001B[36mmultifunctional.allocation\u001B[0m:\u001B[36mgeneric_allocation\u001B[0m:\u001B[36m69\u001B[0m - \u001B[34m\u001B[1mCreating new product code 9481639facba4b248d96995e60fc9bf6 for functional edge Exchange: 4 kg 'first product' (kg, None, None) to Multifunctional: 'process - 1' (None, first, None)> on activity Multifunctional: 'process - 1' (None, first, None)\u001B[0m\n",
      "\u001B[32m2024-07-05 08:29:22.163\u001B[0m | \u001B[34m\u001B[1mDEBUG   \u001B[0m | \u001B[36mmultifunctional.allocation\u001B[0m:\u001B[36mgeneric_allocation\u001B[0m:\u001B[36m39\u001B[0m - \u001B[34m\u001B[1mUsing allocation factor 0.72 for functional edge Exchange: 6 None Multifunctional: 'process - 1' (None, first, None) to Multifunctional: 'process - 1' (None, first, None)> on activity Multifunctional: 'process - 1' (None, first, None)\u001B[0m\n",
      "\u001B[32m2024-07-05 08:29:22.165\u001B[0m | \u001B[34m\u001B[1mDEBUG   \u001B[0m | \u001B[36mmultifunctional.allocation\u001B[0m:\u001B[36mgeneric_allocation\u001B[0m:\u001B[36m69\u001B[0m - \u001B[34m\u001B[1mCreating new product code eca8cb2842474f6eac4c488b266fd2ed for functional edge Exchange: 6 None Multifunctional: 'process - 1' (None, first, None) to Multifunctional: 'process - 1' (None, first, None)> on activity Multifunctional: 'process - 1' (None, first, None)\u001B[0m\n"
     ]
    },
    {
     "name": "stdout",
     "output_type": "stream",
     "text": [
      "Vacuuming database \n"
     ]
    }
   ],
   "source": [
    "PRODUCT_DATA = {\n",
    "    (\"products\", \"a\"): {\n",
    "        \"name\": \"flow - a\",\n",
    "        \"code\": \"a\",\n",
    "        \"unit\": \"kg\",\n",
    "        \"type\": \"emission\",\n",
    "        \"categories\": (\"air\",),\n",
    "    },\n",
    "    (\"products\", \"product\"): {\n",
    "        \"type\": \"product\",\n",
    "        \"name\": \"first product\",\n",
    "        \"unit\": \"kg\",\n",
    "        \"exchanges\": [],\n",
    "    },\n",
    "    (\"products\", \"1\"): {\n",
    "        \"name\": \"process - 1\",\n",
    "        \"code\": \"1\",\n",
    "        \"location\": \"first\",\n",
    "        \"type\": \"multifunctional\",\n",
    "        \"exchanges\": [\n",
    "            {\n",
    "                \"functional\": True,\n",
    "                \"type\": \"production\",\n",
    "                \"code\": \"product\",\n",
    "                \"amount\": 4,\n",
    "                \"properties\": {\n",
    "                    \"price\": 7,\n",
    "                    \"mass\": 6,\n",
    "                },\n",
    "            },\n",
    "            {\n",
    "                \"functional\": True,\n",
    "                \"type\": \"production\",\n",
    "                \"name\": \"second product - 1\",\n",
    "                \"unit\": \"megajoule\",\n",
    "                \"amount\": 6,\n",
    "                \"properties\": {\n",
    "                    \"price\": 12,\n",
    "                    \"mass\": 4,\n",
    "                },\n",
    "            },\n",
    "            {\n",
    "                \"type\": \"biosphere\",\n",
    "                \"name\": \"flow - a\",\n",
    "                \"amount\": 10,\n",
    "                \"input\": (\"products\", \"a\"),\n",
    "            },\n",
    "        ],\n",
    "    },\n",
    "}\n",
    "\n",
    "db = mf.MultifunctionalDatabase(\"products\")\n",
    "db.register(default_allocation=\"price\")\n",
    "db.write(PRODUCT_DATA)"
   ]
  },
  {
   "cell_type": "markdown",
   "id": "3b486f64-cf40-4c76-b5fd-3561322449f2",
   "metadata": {},
   "source": [
    "Writing the database also allocates the multifunctional process:"
   ]
  },
  {
   "cell_type": "code",
   "execution_count": 5,
   "id": "1132f050-10f7-48bb-a872-c861c1d2dcd8",
   "metadata": {},
   "outputs": [
    {
     "name": "stdout",
     "output_type": "stream",
     "text": [
      "Multifunctional: 'process - 1' (None, first, None) multifunctional\n",
      "'first product' (kg, None, None) product\n",
      "'flow - a' (kg, None, ('air',)) emission\n",
      "Read-only allocated process: 'process - 1' (kg, first, None) readonly_process\n",
      "Read-only allocated process: 'process - 1' (megajoule, first, None) readonly_process\n"
     ]
    }
   ],
   "source": [
    "for node in bd.Database(\"products\"):\n",
    "    print(node, node['type'])"
   ]
  },
  {
   "cell_type": "markdown",
   "id": "707e5f1f-4cb0-4770-aa5c-d8d039be870c",
   "metadata": {},
   "source": [
    "Links to the `product` node are preserved:"
   ]
  },
  {
   "cell_type": "code",
   "execution_count": 6,
   "id": "9926b9a6-3c12-4324-900e-c6bd5652ced8",
   "metadata": {},
   "outputs": [
    {
     "name": "stdout",
     "output_type": "stream",
     "text": [
      "Exchange: 4 kg 'first product' (kg, None, None) to Read-only allocated process: 'process - 1' (kg, first, None)>\n"
     ]
    }
   ],
   "source": [
    "for exc in bd.get_node(name=\"process - 1\", unit=\"kg\", database=\"products\").production():\n",
    "    print(exc)"
   ]
  },
  {
   "cell_type": "markdown",
   "id": "a96c8710-23f7-444f-b9c2-729d6c077088",
   "metadata": {},
   "source": [
    "The product node can be used in LCIA:"
   ]
  },
  {
   "cell_type": "code",
   "execution_count": 7,
   "id": "ce04a15c-509d-434c-9ccc-14e64115d4d1",
   "metadata": {},
   "outputs": [],
   "source": [
    "m = bd.Method((\"foo\",))\n",
    "m.register()\n",
    "m.write([(bd.get_node(code=\"a\").id, 5)])"
   ]
  },
  {
   "cell_type": "code",
   "execution_count": 8,
   "id": "6182afd2-8a16-4914-8798-f16b7a3c6aa0",
   "metadata": {},
   "outputs": [
    {
     "data": {
      "text/plain": [
       "3.4999999403953552"
      ]
     },
     "execution_count": 8,
     "metadata": {},
     "output_type": "execute_result"
    }
   ],
   "source": [
    "fu, objs, _ = bd.prepare_lca_inputs(\n",
    "    demand={bd.get_node(name=\"first product\"): 1}, method=(\"foo\",)\n",
    ")\n",
    "lca = bc.LCA(fu, data_objs=objs)\n",
    "lca.lci()\n",
    "lca.lcia()\n",
    "lca.score"
   ]
  }
 ],
 "metadata": {
  "kernelspec": {
   "display_name": "Python 3 (ipykernel)",
   "language": "python",
   "name": "python3"
  },
  "language_info": {
   "codemirror_mode": {
    "name": "ipython",
    "version": 3
   },
   "file_extension": ".py",
   "mimetype": "text/x-python",
   "name": "python",
   "nbconvert_exporter": "python",
   "pygments_lexer": "ipython3",
   "version": "3.10.13"
  }
 },
 "nbformat": 4,
 "nbformat_minor": 5
}
