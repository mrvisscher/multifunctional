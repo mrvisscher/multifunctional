{
 "cells": [
  {
   "cell_type": "code",
   "execution_count": null,
   "id": "401df234-3d7c-4c66-9ae8-e2b49ef2314a",
   "metadata": {},
   "outputs": [],
   "source": [
    "import bw2data as bd\n",
    "import bw2calc as bc\n",
    "import multifunctional as mf"
   ]
  },
  {
   "cell_type": "markdown",
   "id": "21cd6126-31f4-4959-a632-29e94f360fbd",
   "metadata": {},
   "source": [
    "# Create a basic database\n",
    "\n",
    "Note the node type `multifunctional` and the edge attribute `functional`."
   ]
  },
  {
   "cell_type": "code",
   "execution_count": 2,
   "id": "29223631-a364-4835-9253-9b3500a798d7",
   "metadata": {},
   "outputs": [],
   "source": [
    "if \"multifunctional-example\" in bd.projects:\n",
    "    bd.projects.delete_project(\"multifunctional-example\", True)"
   ]
  },
  {
   "cell_type": "code",
   "execution_count": 3,
   "id": "500abd0a-03e4-4028-9890-cb385b636f7d",
   "metadata": {},
   "outputs": [],
   "source": [
    "bd.projects.set_current(\"multifunctional-example\")"
   ]
  },
  {
   "cell_type": "code",
   "execution_count": 4,
   "id": "f8f862d9-0620-4744-856b-3b9d687ae687",
   "metadata": {},
   "outputs": [
    {
     "name": "stderr",
     "output_type": "stream",
     "text": [
      "100%|███████████████████████████████████████████████████████████████████████████████████████████████████████████████████████████████████████████████████████████████████████████████| 2/2 [00:00<00:00, 7869.24it/s]\n",
      "\u001B[32m2024-07-04 13:51:24.811\u001B[0m | \u001B[34m\u001B[1mDEBUG   \u001B[0m | \u001B[36mmultifunctional.node_classes\u001B[0m:\u001B[36mallocate\u001B[0m:\u001B[36m68\u001B[0m - \u001B[34m\u001B[1mAllocating 'process - 1' (None, first, None) (id: 2) with strategy price\u001B[0m\n",
      "\u001B[32m2024-07-04 13:51:24.813\u001B[0m | \u001B[34m\u001B[1mDEBUG   \u001B[0m | \u001B[36mmultifunctional.allocation\u001B[0m:\u001B[36mgeneric_allocation\u001B[0m:\u001B[36m37\u001B[0m - \u001B[34m\u001B[1mUsing allocation factor 0.28 for functional edge Exchange: 4 None 'process - 1' (None, first, None) to 'process - 1' (None, first, None)> on activity 'process - 1' (None, first, None)\u001B[0m\n",
      "\u001B[32m2024-07-04 13:51:24.814\u001B[0m | \u001B[34m\u001B[1mDEBUG   \u001B[0m | \u001B[36mmultifunctional.allocation\u001B[0m:\u001B[36mgeneric_allocation\u001B[0m:\u001B[36m50\u001B[0m - \u001B[34m\u001B[1mCreating new product code 5a3ace8e63e54bf994bf422164f57242 for functional edge Exchange: 4 None 'process - 1' (None, first, None) to 'process - 1' (None, first, None)> on activity 'process - 1' (None, first, None)\u001B[0m\n",
      "\u001B[32m2024-07-04 13:51:24.816\u001B[0m | \u001B[34m\u001B[1mDEBUG   \u001B[0m | \u001B[36mmultifunctional.allocation\u001B[0m:\u001B[36mgeneric_allocation\u001B[0m:\u001B[36m37\u001B[0m - \u001B[34m\u001B[1mUsing allocation factor 0.72 for functional edge Exchange: 6 None 'process - 1' (None, first, None) to 'process - 1' (None, first, None)> on activity 'process - 1' (None, first, None)\u001B[0m\n",
      "\u001B[32m2024-07-04 13:51:24.818\u001B[0m | \u001B[34m\u001B[1mDEBUG   \u001B[0m | \u001B[36mmultifunctional.allocation\u001B[0m:\u001B[36mgeneric_allocation\u001B[0m:\u001B[36m50\u001B[0m - \u001B[34m\u001B[1mCreating new product code c574fce2e23542a29895ca3b522a29db for functional edge Exchange: 6 None 'process - 1' (None, first, None) to 'process - 1' (None, first, None)> on activity 'process - 1' (None, first, None)\u001B[0m\n"
     ]
    },
    {
     "name": "stdout",
     "output_type": "stream",
     "text": [
      "Vacuuming database \n"
     ]
    }
   ],
   "source": [
    "BASIC_DATA = {\n",
    "    (\"basic\", \"a\"): {\n",
    "        \"name\": \"flow - a\",\n",
    "        \"code\": \"a\",\n",
    "        \"unit\": \"kg\",\n",
    "        \"type\": \"emission\",\n",
    "        \"categories\": (\"air\",),\n",
    "    },\n",
    "    (\"basic\", \"1\"): {\n",
    "        \"name\": \"process - 1\",\n",
    "        \"code\": \"1\",\n",
    "        \"location\": \"first\",\n",
    "        \"type\": \"multifunctional\",\n",
    "        \"exchanges\": [\n",
    "            {\n",
    "                \"functional\": True,\n",
    "                \"type\": \"production\",\n",
    "                \"name\": \"first product - 1\",\n",
    "                \"unit\": \"kg\",\n",
    "                \"amount\": 4,\n",
    "                \"properties\": {\n",
    "                    \"price\": 7,\n",
    "                    \"mass\": 6,\n",
    "                },\n",
    "            },\n",
    "            {\n",
    "                \"functional\": True,\n",
    "                \"type\": \"production\",\n",
    "                \"name\": \"second product - 1\",\n",
    "                \"unit\": \"megajoule\",\n",
    "                \"amount\": 6,\n",
    "                \"properties\": {\n",
    "                    \"price\": 12,\n",
    "                    \"mass\": 4,\n",
    "                },\n",
    "            },\n",
    "            {\n",
    "                \"type\": \"biosphere\",\n",
    "                \"name\": \"flow - a\",\n",
    "                \"amount\": 10,\n",
    "                \"input\": (\"basic\", \"a\"),\n",
    "            },\n",
    "        ],\n",
    "    },\n",
    "}\n",
    "\n",
    "db = mf.MultifunctionalDatabase(\"basic\")\n",
    "db.register(default_allocation=\"price\")\n",
    "db.write(BASIC_DATA)"
   ]
  },
  {
   "cell_type": "markdown",
   "id": "3b486f64-cf40-4c76-b5fd-3561322449f2",
   "metadata": {},
   "source": [
    "Writing the database also allocates the multifunctional process:"
   ]
  },
  {
   "cell_type": "code",
   "execution_count": 5,
   "id": "1132f050-10f7-48bb-a872-c861c1d2dcd8",
   "metadata": {},
   "outputs": [
    {
     "name": "stdout",
     "output_type": "stream",
     "text": [
      "'process - 1' (kg, first, None) readonly_process\n",
      "'process - 1' (None, first, None) multifunctional\n",
      "'process - 1' (megajoule, first, None) readonly_process\n",
      "'flow - a' (kg, None, ('air',)) emission\n"
     ]
    }
   ],
   "source": [
    "for node in bd.Database(\"basic\"):\n",
    "    print(node, node['type'])"
   ]
  },
  {
   "cell_type": "markdown",
   "id": "f45bc509-034b-4b5a-9645-02551262561a",
   "metadata": {},
   "source": [
    "Allocated processes are read-only"
   ]
  },
  {
   "cell_type": "code",
   "execution_count": 6,
   "id": "cb8f227d-59c0-445c-bf2e-b01a6fbc3f5b",
   "metadata": {},
   "outputs": [
    {
     "data": {
      "text/plain": [
       "'process - 1' (kg, first, None)"
      ]
     },
     "execution_count": 6,
     "metadata": {},
     "output_type": "execute_result"
    }
   ],
   "source": [
    "attributes = {\"reference product\": \"first product - 1\", \"database\": \"basic\"}\n",
    "node = bd.get_node(**attributes)\n",
    "node"
   ]
  },
  {
   "cell_type": "code",
   "execution_count": 7,
   "id": "e8a793c2-1708-4f4e-9192-9e515efb8e28",
   "metadata": {},
   "outputs": [
    {
     "ename": "NotImplementedError",
     "evalue": "This node is read only. Update the corresponding multifunctional process.",
     "output_type": "error",
     "traceback": [
      "\u001B[0;31m---------------------------------------------------------------------------\u001B[0m",
      "\u001B[0;31mNotImplementedError\u001B[0m                       Traceback (most recent call last)",
      "Cell \u001B[0;32mIn[7], line 1\u001B[0m\n\u001B[0;32m----> 1\u001B[0m \u001B[43mnode\u001B[49m\u001B[43m[\u001B[49m\u001B[38;5;124;43m'\u001B[39;49m\u001B[38;5;124;43mfoo\u001B[39;49m\u001B[38;5;124;43m'\u001B[39;49m\u001B[43m]\u001B[49m \u001B[38;5;241m=\u001B[39m \u001B[38;5;124m'\u001B[39m\u001B[38;5;124mbar\u001B[39m\u001B[38;5;124m'\u001B[39m\n",
      "File \u001B[0;32m~/Code/brightway/multifunctional/multifunctional/node_classes.py:91\u001B[0m, in \u001B[0;36mReadOnlyProcessWithReferenceProduct.__setitem__\u001B[0;34m(self, key, value)\u001B[0m\n\u001B[1;32m     90\u001B[0m \u001B[38;5;28;01mdef\u001B[39;00m \u001B[38;5;21m__setitem__\u001B[39m(\u001B[38;5;28mself\u001B[39m, key, value):\n\u001B[0;32m---> 91\u001B[0m     \u001B[38;5;28;01mraise\u001B[39;00m \u001B[38;5;167;01mNotImplementedError\u001B[39;00m(\n\u001B[1;32m     92\u001B[0m         \u001B[38;5;124m\"\u001B[39m\u001B[38;5;124mThis node is read only. Update the corresponding multifunctional process.\u001B[39m\u001B[38;5;124m\"\u001B[39m\n\u001B[1;32m     93\u001B[0m     )\n",
      "\u001B[0;31mNotImplementedError\u001B[0m: This node is read only. Update the corresponding multifunctional process."
     ]
    }
   ],
   "source": [
    "node['foo'] = 'bar'"
   ]
  },
  {
   "cell_type": "markdown",
   "id": "a96c8710-23f7-444f-b9c2-729d6c077088",
   "metadata": {},
   "source": [
    "But they can be used in LCIA:"
   ]
  },
  {
   "cell_type": "code",
   "execution_count": 8,
   "id": "ce04a15c-509d-434c-9ccc-14e64115d4d1",
   "metadata": {},
   "outputs": [],
   "source": [
    "m = bd.Method((\"foo\",))\n",
    "m.register()\n",
    "m.write([(bd.get_node(code=\"a\").id, 5)])"
   ]
  },
  {
   "cell_type": "code",
   "execution_count": 9,
   "id": "6182afd2-8a16-4914-8798-f16b7a3c6aa0",
   "metadata": {},
   "outputs": [
    {
     "data": {
      "text/plain": [
       "3.4999999403953552"
      ]
     },
     "execution_count": 9,
     "metadata": {},
     "output_type": "execute_result"
    }
   ],
   "source": [
    "fu, objs, _ = bd.prepare_lca_inputs(\n",
    "    demand={node: 1}, method=(\"foo\",)\n",
    ")\n",
    "lca = bc.LCA(fu, data_objs=objs)\n",
    "lca.lci()\n",
    "lca.lcia()\n",
    "lca.score"
   ]
  }
 ],
 "metadata": {
  "kernelspec": {
   "display_name": "Python 3 (ipykernel)",
   "language": "python",
   "name": "python3"
  },
  "language_info": {
   "codemirror_mode": {
    "name": "ipython",
    "version": 3
   },
   "file_extension": ".py",
   "mimetype": "text/x-python",
   "name": "python",
   "nbconvert_exporter": "python",
   "pygments_lexer": "ipython3",
   "version": "3.10.13"
  }
 },
 "nbformat": 4,
 "nbformat_minor": 5
}
